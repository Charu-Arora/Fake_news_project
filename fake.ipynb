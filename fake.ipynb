{
 "cells": [
  {
   "cell_type": "code",
   "execution_count": 8,
   "metadata": {},
   "outputs": [],
   "source": [
    "import pandas as pd\n",
    "import numpy as np\n",
    "from nltk.tokenize import word_tokenize\n",
    "from nltk import pos_tag\n",
    "from nltk.corpus import stopwords\n",
    "from nltk.stem import WordNetLemmatizer\n",
    "from sklearn.preprocessing import LabelEncoder\n",
    "from collections import defaultdict\n",
    "from nltk.corpus import wordnet as wn\n",
    "from sklearn.feature_extraction.text import TfidfVectorizer\n",
    "from sklearn import model_selection, naive_bayes, svm\n",
    "from sklearn.metrics import accuracy_score"
   ]
  },
  {
   "cell_type": "code",
   "execution_count": 9,
   "metadata": {},
   "outputs": [],
   "source": [
    "np.random.seed(500)\n",
    "corpus=pd.read_csv(r\"https://raw.githubusercontent.com/Gunjitbedi/Text-Classification/master/corpus.csv\",encoding='latin-1')"
   ]
  },
  {
   "cell_type": "code",
   "execution_count": 10,
   "metadata": {},
   "outputs": [],
   "source": [
    "corpus['text'].dropna(inplace=True)\n",
    "corpus['text']=[entry.lower() for entry in corpus['text']]\n",
    "corpus['text']= [word_tokenize(entry) for entry in corpus['text']]\n",
    "corpus['text']=[entry for entry in corpus['text'] if not entry in stopwords.words('english')]\n",
    "tag_map=defaultdict(lambda : wn.NOUN)\n",
    "tag_map['V']=wn.VERB\n",
    "tag_map['A']=wn.ADJ\n",
    "tag_map['R']=wn.ADV"
   ]
  },
  {
   "cell_type": "code",
   "execution_count": 11,
   "metadata": {},
   "outputs": [],
   "source": [
    "for i,entry in enumerate(corpus['text']):\n",
    "    finalset=[]\n",
    "    word_lemmatization=WordNetLemmatizer()\n",
    "    for word,tag in pos_tag(entry):\n",
    "        if word.isalpha():\n",
    "            wordset=word_lemmatization.lemmatize(word,tag_map[tag[0]])\n",
    "            finalset.append(wordset)\n",
    "    corpus.loc[i,'text_final']=str(finalset)"
   ]
  },
  {
   "cell_type": "code",
   "execution_count": 12,
   "metadata": {},
   "outputs": [],
   "source": [
    "test_X, train_X, test_Y, train_Y =model_selection.train_test_split(corpus['text_final'],corpus['label'],test_size=0.3)\n",
    "encoder=LabelEncoder()\n",
    "train_Y=encoder.fit_transform(train_Y)\n",
    "test_Y=encoder.fit_transform(test_Y)"
   ]
  },
  {
   "cell_type": "code",
   "execution_count": 13,
   "metadata": {},
   "outputs": [],
   "source": [
    "tfidf_vect=TfidfVectorizer(max_features=5000)\n",
    "tfidf_vect.fit(corpus['text_final'])\n",
    "train_X_tfidf=tfidf_vect.transform(train_X)\n",
    "test_X_tfidf=tfidf_vect.transform(test_X)"
   ]
  },
  {
   "cell_type": "code",
   "execution_count": 14,
   "metadata": {},
   "outputs": [
    {
     "name": "stdout",
     "output_type": "stream",
     "text": [
      "SVM Accuracy Score ->  84.0714\n"
     ]
    }
   ],
   "source": [
    "Svm=svm.SVC(C=1.0,kernel='linear',degree=3,gamma='auto')\n",
    "Svm.fit(train_X_tfidf,train_Y)\n",
    "predict_svm=Svm.predict(test_X_tfidf)\n",
    "print(\"SVM Accuracy Score -> \",round(accuracy_score(predict_svm, test_Y)*100,4))"
   ]
  }
 ],
 "metadata": {
  "interpreter": {
   "hash": "d2740c389931061cade8be3b4febd89251bee8ff641b0334ea9b40feb0674c5f"
  },
  "kernelspec": {
   "display_name": "Python 3.10.1 64-bit",
   "language": "python",
   "name": "python3"
  },
  "language_info": {
   "codemirror_mode": {
    "name": "ipython",
    "version": 3
   },
   "file_extension": ".py",
   "mimetype": "text/x-python",
   "name": "python",
   "nbconvert_exporter": "python",
   "pygments_lexer": "ipython3",
   "version": "3.10.1"
  },
  "orig_nbformat": 4
 },
 "nbformat": 4,
 "nbformat_minor": 2
}
